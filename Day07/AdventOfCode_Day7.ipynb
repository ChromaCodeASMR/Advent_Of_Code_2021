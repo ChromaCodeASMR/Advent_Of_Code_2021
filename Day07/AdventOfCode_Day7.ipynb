{
 "cells": [
  {
   "cell_type": "code",
   "execution_count": 3,
   "metadata": {},
   "outputs": [],
   "source": [
    "import numpy as np"
   ]
  },
  {
   "cell_type": "code",
   "execution_count": 6,
   "metadata": {},
   "outputs": [],
   "source": [
    "def calculate_fuel_for_position(goal_position, all_positions):\n",
    "    return sum([abs(entry - goal_position) for entry in all_positions])"
   ]
  },
  {
   "cell_type": "code",
   "execution_count": 29,
   "metadata": {},
   "outputs": [],
   "source": [
    "def part1(file_name):\n",
    "    with open(file_name, 'r') as f:\n",
    "        lines = f.readlines()\n",
    "        positions = [int(entry) for entry in lines[0].strip().split(',')]\n",
    "\n",
    "    min_pos,max_pos = min(positions), max(positions)\n",
    "\n",
    "    fuel_consumptions = [calculate_fuel_for_position(entry, positions) for entry in range(min_pos, max_pos+1)]\n",
    "    print(f\"best fuel at position {np.argmin(fuel_consumptions)}, with consumption {np.min(fuel_consumptions)}\")"
   ]
  },
  {
   "cell_type": "code",
   "execution_count": 30,
   "metadata": {},
   "outputs": [
    {
     "name": "stdout",
     "output_type": "stream",
     "text": [
      "best fuel at position 2, with consumption 37\n"
     ]
    }
   ],
   "source": [
    "part1('example.txt')"
   ]
  },
  {
   "cell_type": "markdown",
   "metadata": {},
   "source": [
    "## Part 2"
   ]
  },
  {
   "cell_type": "code",
   "execution_count": 33,
   "metadata": {},
   "outputs": [],
   "source": [
    "def calculate_fuel_for_position_2(goal_position, all_positions):\n",
    "    fuel_parts = [sum(np.arange(1,abs(entry - goal_position)+1)) for entry in all_positions]\n",
    "    return sum(fuel_parts)"
   ]
  },
  {
   "cell_type": "code",
   "execution_count": 34,
   "metadata": {},
   "outputs": [],
   "source": [
    "def part2(file_name):\n",
    "    with open(file_name, 'r') as f:\n",
    "        lines = f.readlines()\n",
    "        positions = [int(entry) for entry in lines[0].strip().split(',')]\n",
    "\n",
    "\n",
    "    min_pos,max_pos = min(positions), max(positions)\n",
    "    fuel_consumptions = [calculate_fuel_for_position_2(entry, positions) for entry in range(min_pos, max_pos+1)]\n",
    "    print(f\"best fuel at position {np.argmin(fuel_consumptions)}, with consumption {np.min(fuel_consumptions)}\")"
   ]
  },
  {
   "cell_type": "code",
   "execution_count": 36,
   "metadata": {},
   "outputs": [
    {
     "name": "stdout",
     "output_type": "stream",
     "text": [
      "best fuel at position 478, with consumption 96086265\n"
     ]
    }
   ],
   "source": [
    "part2('input.txt')"
   ]
  },
  {
   "cell_type": "code",
   "execution_count": null,
   "metadata": {},
   "outputs": [],
   "source": []
  }
 ],
 "metadata": {
  "interpreter": {
   "hash": "1c0c487c4ab6dd538f2bed01f3fbbf30566ebe52c9d7a8c42036e536448430f9"
  },
  "kernelspec": {
   "display_name": "Python 3.10.2 ('venv': venv)",
   "language": "python",
   "name": "python3"
  },
  "language_info": {
   "codemirror_mode": {
    "name": "ipython",
    "version": 3
   },
   "file_extension": ".py",
   "mimetype": "text/x-python",
   "name": "python",
   "nbconvert_exporter": "python",
   "pygments_lexer": "ipython3",
   "version": "3.10.2"
  },
  "orig_nbformat": 4
 },
 "nbformat": 4,
 "nbformat_minor": 2
}
