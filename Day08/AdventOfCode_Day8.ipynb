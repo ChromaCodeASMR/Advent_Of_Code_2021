{
 "cells": [
  {
   "cell_type": "markdown",
   "metadata": {},
   "source": [
    "The challenge: \n",
    "\n",
    "we are concerned with 7-segment displays, where each segment is controlled by another wire and the wires are named a-g\n",
    "\n",
    "<img width=300; src=\"default_segments.png\">"
   ]
  },
  {
   "cell_type": "markdown",
   "metadata": {},
   "source": [
    "But the wires have been crossed and we have to deduce which wire (a-g) controls which part of the display.\n",
    "\n",
    "The input is the 10 different observations and after the '|', we get 4 numbers that we have to translate.\n",
    "\n",
    "example-input: '''acedgfb cdfbe gcdfa fbcad dab cefabd cdfgeb eafb cagedb ab |\n",
    "cdfeb fcadb cdfeb cdbaf'''"
   ]
  },
  {
   "cell_type": "markdown",
   "metadata": {},
   "source": [
    "## Part 1\n",
    "\n",
    "How many times do digits 1, 4, 7 or 8 appear?\n",
    "\n",
    "1 (two segments), 4 (4 segments), 7 (three segments), 8 (7 segments)"
   ]
  },
  {
   "cell_type": "code",
   "execution_count": 5,
   "metadata": {},
   "outputs": [],
   "source": [
    "def get_segments(line):\n",
    "    observations, outputs = [part.strip() for part in line.split('|')]\n",
    "    observations = observations.split(' ')\n",
    "    outputs = outputs.split(' ')\n",
    "    return observations, outputs\n",
    "\n",
    "def part1(file_name):\n",
    "    with open(file_name, 'r') as f:\n",
    "        lines = [line.strip() for line in f.readlines()]\n",
    "\n",
    "    special_numbers = 0\n",
    "\n",
    "    for line in lines:\n",
    "        observations, outputs = get_segments(line)\n",
    "        output_lenghts = [len(output) for output in outputs]\n",
    "        special_numbers += output_lenghts.count(2)\n",
    "        special_numbers += output_lenghts.count(4)\n",
    "        special_numbers += output_lenghts.count(3)\n",
    "        special_numbers += output_lenghts.count(7)\n",
    "    \n",
    "    print(special_numbers)"
   ]
  },
  {
   "cell_type": "code",
   "execution_count": 7,
   "metadata": {},
   "outputs": [
    {
     "name": "stdout",
     "output_type": "stream",
     "text": [
      "362\n"
     ]
    }
   ],
   "source": [
    "part1('input.txt')"
   ]
  },
  {
   "cell_type": "markdown",
   "metadata": {},
   "source": [
    "## Part 2\n",
    "\n",
    "Now deduce the mapping from signals to the observed numbers.\n",
    "\n",
    "Then translate the 4 digit outputs, add those numbers across all lines to get the solution."
   ]
  },
  {
   "cell_type": "markdown",
   "metadata": {},
   "source": [
    "-aaaa- original wire names\n",
    "\n",
    "b----c\n",
    "\n",
    "b----c\n",
    "\n",
    "-dddd-\n",
    "\n",
    "e----f\n",
    "\n",
    "e----f\n",
    "\n",
    "-gggg-"
   ]
  },
  {
   "cell_type": "code",
   "execution_count": 12,
   "metadata": {},
   "outputs": [],
   "source": [
    "def get_segments(line):\n",
    "    observations, outputs = [part.strip() for part in line.split('|')]\n",
    "    observations = observations.split(' ')\n",
    "    outputs = outputs.split(' ')\n",
    "    return observations, outputs\n",
    "\n",
    "def deduct_wires(observations):\n",
    "    real_to_fake_wires = dict()\n",
    "    # identify the observed signals of 1, 4, 7, 8 because they are unique\n",
    "    obs_one = [entry for entry in observations if len(entry) == 2][0]\n",
    "    obs_four = [entry for entry in observations if len(entry) == 4][0]\n",
    "    obs_seven = [entry for entry in observations if len(entry) == 3][0]\n",
    "    obs_eight = [entry for entry in observations if len(entry) == 7][0]\n",
    "    # grouping the observations with length 5, corresponding to numbers 2, 3, 5\n",
    "    obs_five_segments = [entry for entry in observations if len(entry) == 5]\n",
    "    # grouping the observations with length 6, corresponding to numbers 6, 9, 0\n",
    "    obs_six_segments = [entry for entry in observations if len(entry) == 6]\n",
    "\n",
    "    # finding wire 'a' by taking the wire that is in 7 but not in 1\n",
    "    real_to_fake_wires['a'] = [wire for wire in obs_seven if wire not in obs_one][0]\n",
    "    # finding wire 'd' by taking the wire from 4 that is in all observations with length 5\n",
    "    real_to_fake_wires['d'] = [wire for wire in obs_four if all([wire in fiver for fiver in obs_five_segments])][0]\n",
    "    # finding wire 'b' by taking the wire from 4 without the ones in 1 and fake_d\n",
    "    real_to_fake_wires['b'] = (set(obs_four) - set(obs_one).union(set(real_to_fake_wires['d']))).pop()\n",
    "    # finding wire 'f' by taking the entry from 1 that is in all observations with length 6\n",
    "    real_to_fake_wires['f'] = [wire for wire in obs_one if all([wire in sixer for sixer in obs_six_segments])][0]\n",
    "    # the other entry in 1 is then 'c'\n",
    "    real_to_fake_wires['c'] = (set(obs_one) - set(real_to_fake_wires['f'])).pop()\n",
    "    # identify the two unmapped mystery wires\n",
    "    mystery_wires = list(set(\"abcdefg\") - set(real_to_fake_wires.values()))\n",
    "    # the mystery wire that only appears in four different numbers is 'e'\n",
    "    mystery_wire_counts = [len([obs for obs in observations if mystery_wire in set(obs)]) for mystery_wire in mystery_wires]\n",
    "    real_to_fake_wires['e'] = mystery_wires[0] if mystery_wire_counts[0]==4 else mystery_wires[1]\n",
    "    # the other one is 'g'\n",
    "    real_to_fake_wires['g'] = mystery_wires[1] if mystery_wire_counts[0]==4 else mystery_wires[0]\n",
    "\n",
    "    # reverse dict\n",
    "    fake_to_real_wires = {v: k for k, v in real_to_fake_wires.items()}\n",
    "    return fake_to_real_wires\n",
    "\n",
    "def translate_signal(signal, fake_to_real_wires):\n",
    "    real_signal = ''\n",
    "    for wire in signal:\n",
    "        real_signal += fake_to_real_wires[wire]\n",
    "    return real_signal\n",
    "\n",
    "def signal_to_number(signal):\n",
    "    sorted_signal = ''.join(sorted(signal))\n",
    "    signal_mapping = {'cf': '1',\n",
    "                        'acdeg': '2',\n",
    "                        'acdfg': '3',\n",
    "                        'bcdf': '4',\n",
    "                        'abdfg': '5',\n",
    "                        'abdefg': '6',\n",
    "                        'acf': '7',\n",
    "                        'abcdefg': '8',\n",
    "                        'abcdfg': '9',\n",
    "                        'abcefg': '0'}\n",
    "    return signal_mapping[sorted_signal]\n",
    "\n",
    "def part2(file_name):\n",
    "    with open(file_name, 'r') as f:\n",
    "        lines = [line.strip() for line in f.readlines()]\n",
    "\n",
    "    output_sum = 0\n",
    "\n",
    "    for line in lines:\n",
    "        observations, outputs = get_segments(line)\n",
    "        fake_to_real_wires = deduct_wires(observations)\n",
    "        translated_outputs = [signal_to_number(translate_signal(output, fake_to_real_wires)) for output in outputs]\n",
    "        output_sum += int(''.join(translated_outputs))\n",
    "    print(output_sum)"
   ]
  },
  {
   "cell_type": "code",
   "execution_count": 13,
   "metadata": {},
   "outputs": [
    {
     "name": "stdout",
     "output_type": "stream",
     "text": [
      "61229\n"
     ]
    }
   ],
   "source": [
    "part2('example.txt')"
   ]
  },
  {
   "cell_type": "code",
   "execution_count": 14,
   "metadata": {},
   "outputs": [
    {
     "name": "stdout",
     "output_type": "stream",
     "text": [
      "1020159\n"
     ]
    }
   ],
   "source": [
    "part2('input.txt')"
   ]
  },
  {
   "cell_type": "code",
   "execution_count": null,
   "metadata": {},
   "outputs": [],
   "source": []
  }
 ],
 "metadata": {
  "interpreter": {
   "hash": "1c0c487c4ab6dd538f2bed01f3fbbf30566ebe52c9d7a8c42036e536448430f9"
  },
  "kernelspec": {
   "display_name": "Python 3.10.2 ('venv': venv)",
   "language": "python",
   "name": "python3"
  },
  "language_info": {
   "codemirror_mode": {
    "name": "ipython",
    "version": 3
   },
   "file_extension": ".py",
   "mimetype": "text/x-python",
   "name": "python",
   "nbconvert_exporter": "python",
   "pygments_lexer": "ipython3",
   "version": "3.10.2"
  },
  "orig_nbformat": 4
 },
 "nbformat": 4,
 "nbformat_minor": 2
}
