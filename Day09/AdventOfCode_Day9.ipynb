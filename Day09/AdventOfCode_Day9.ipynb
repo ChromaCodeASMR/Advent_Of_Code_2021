{
 "cells": [
  {
   "cell_type": "markdown",
   "metadata": {},
   "source": [
    "Day 9 Challenge: We get a heightmap like below, each number corresponds to the height of a particular location, 9 is the highest, 0 is the lowest.\n",
    "\n",
    "Goal: Find the low points - locations that are lower than any of its adjacent locations (up, down, left, right). \n",
    "\n",
    "The risk level of a low point is \"1 plus its height\".\n",
    "\n",
    "Find the sum of the risk levels of all the low points. "
   ]
  },
  {
   "cell_type": "markdown",
   "metadata": {},
   "source": [
    "<img width=100; src=\"heightmap_example.png\">"
   ]
  },
  {
   "cell_type": "markdown",
   "metadata": {},
   "source": [
    "## Part 1"
   ]
  },
  {
   "cell_type": "code",
   "execution_count": 2,
   "metadata": {},
   "outputs": [],
   "source": [
    "import numpy as np"
   ]
  },
  {
   "cell_type": "code",
   "execution_count": 21,
   "metadata": {},
   "outputs": [],
   "source": [
    "def get_neighbors(row_index, column_index, floorboard):\n",
    "    neighbors = []\n",
    "    # left neighbor\n",
    "    if column_index - 1 >= 0:\n",
    "        neighbors.append(floorboard[row_index, column_index-1])\n",
    "    # top neighbor\n",
    "    if row_index - 1 >= 0:\n",
    "        neighbors.append(floorboard[row_index-1, column_index])\n",
    "    # right neighbor\n",
    "    if column_index + 1 < floorboard.shape[1]:\n",
    "        neighbors.append(floorboard[row_index, column_index+1])\n",
    "    # below neighbor\n",
    "    if row_index + 1 < floorboard.shape[0]:\n",
    "        neighbors.append(floorboard[row_index+1, column_index])\n",
    "    return neighbors\n",
    "\n",
    "def check_if_low_point(row_index, column_index, floorboard):\n",
    "    neighbors = get_neighbors(row_index, column_index, floorboard)\n",
    "    return np.all((np.ones((1,len(neighbors)))*floorboard[row_index, column_index] - neighbors) < 0)\n",
    "\n",
    "def part1(file_name):\n",
    "    with open(file_name, 'r') as f:\n",
    "        lines = [line.strip() for line in f.readlines()]\n",
    "\n",
    "    lava_floor = np.zeros((len(lines), len(lines[0])), dtype=int)\n",
    "    for i, line in enumerate(lines):\n",
    "        for j, char_entry in enumerate(line):\n",
    "            lava_floor[i, j] = int(char_entry)\n",
    "    \n",
    "    display(lava_floor)\n",
    "\n",
    "    risk_sum = 0\n",
    "    for i in range(lava_floor.shape[0]):\n",
    "        for j in range(lava_floor.shape[1]):\n",
    "            if check_if_low_point(i, j, lava_floor):\n",
    "                risk_sum += 1 + lava_floor[i, j]\n",
    "    \n",
    "    print('risk sum', risk_sum)\n",
    "            "
   ]
  },
  {
   "cell_type": "code",
   "execution_count": 22,
   "metadata": {},
   "outputs": [
    {
     "data": {
      "text/plain": [
       "array([[2, 1, 9, 9, 9, 4, 3, 2, 1, 0],\n",
       "       [3, 9, 8, 7, 8, 9, 4, 9, 2, 1],\n",
       "       [9, 8, 5, 6, 7, 8, 9, 8, 9, 2],\n",
       "       [8, 7, 6, 7, 8, 9, 6, 7, 8, 9],\n",
       "       [9, 8, 9, 9, 9, 6, 5, 6, 7, 8]])"
      ]
     },
     "metadata": {},
     "output_type": "display_data"
    },
    {
     "name": "stdout",
     "output_type": "stream",
     "text": [
      "risk sum 15\n"
     ]
    }
   ],
   "source": [
    "part1('example.txt')"
   ]
  },
  {
   "cell_type": "code",
   "execution_count": 23,
   "metadata": {},
   "outputs": [
    {
     "data": {
      "text/plain": [
       "array([[8, 6, 7, ..., 7, 8, 9],\n",
       "       [6, 4, 5, ..., 8, 9, 2],\n",
       "       [5, 3, 5, ..., 9, 9, 0],\n",
       "       ...,\n",
       "       [9, 9, 8, ..., 6, 7, 9],\n",
       "       [9, 8, 9, ..., 8, 8, 9],\n",
       "       [8, 7, 6, ..., 9, 9, 9]])"
      ]
     },
     "metadata": {},
     "output_type": "display_data"
    },
    {
     "name": "stdout",
     "output_type": "stream",
     "text": [
      "risk sum 564\n"
     ]
    }
   ],
   "source": [
    "part1('input.txt')"
   ]
  },
  {
   "cell_type": "markdown",
   "metadata": {},
   "source": [
    "## Part 2"
   ]
  },
  {
   "cell_type": "markdown",
   "metadata": {},
   "source": [
    "This basin has size 9"
   ]
  },
  {
   "cell_type": "markdown",
   "metadata": {},
   "source": [
    "<img width=100; src=\"basin_example.png\">"
   ]
  },
  {
   "cell_type": "markdown",
   "metadata": {},
   "source": [
    "Goal: Find the 3 largest basins and multiply their sizes together. Each low point has a basin."
   ]
  },
  {
   "cell_type": "code",
   "execution_count": 48,
   "metadata": {},
   "outputs": [],
   "source": [
    "def get_neighbors(row_index, column_index, floorboard):\n",
    "    neighbors = []\n",
    "    # left neighbor\n",
    "    if column_index - 1 >= 0:\n",
    "        neighbors.append(floorboard[row_index, column_index-1])\n",
    "    # top neighbor\n",
    "    if row_index - 1 >= 0:\n",
    "        neighbors.append(floorboard[row_index-1, column_index])\n",
    "    # right neighbor\n",
    "    if column_index + 1 < floorboard.shape[1]:\n",
    "        neighbors.append(floorboard[row_index, column_index+1])\n",
    "    # below neighbor\n",
    "    if row_index + 1 < floorboard.shape[0]:\n",
    "        neighbors.append(floorboard[row_index+1, column_index])\n",
    "    return neighbors\n",
    "\n",
    "def get_unmarked_basin_neighbors(i, j, floorboard, basinboard):\n",
    "    neighbors = []\n",
    "    # left neighbor\n",
    "    if j - 1 >= 0:\n",
    "        if floorboard[i, j-1] < 9 and basinboard[i, j-1] == -1:\n",
    "            neighbors.append((i, j-1))\n",
    "    # top neighbor\n",
    "    if i - 1 >= 0:\n",
    "        if floorboard[i-1, j] < 9 and basinboard[i-1, j] == -1:\n",
    "            neighbors.append((i-1, j))\n",
    "    # right neighbor\n",
    "    if j + 1 < floorboard.shape[1]:\n",
    "        if floorboard[i, j+1] < 9 and basinboard[i, j+1] == -1:\n",
    "            neighbors.append((i, j+1))\n",
    "    # below neighbor\n",
    "    if i + 1 < floorboard.shape[0]:\n",
    "        if floorboard[i+1, j] < 9 and basinboard[i+1, j] == -1:\n",
    "            neighbors.append((i+1, j))\n",
    "    return neighbors\n",
    "\n",
    "def check_if_low_point(row_index, column_index, floorboard):\n",
    "    neighbors = get_neighbors(row_index, column_index, floorboard)\n",
    "    return np.all((np.ones((1,len(neighbors)))*floorboard[row_index, column_index] - neighbors) < 0)\n",
    "\n",
    "def mark_basin(row_index, column_index, floorboard, basinboard, basin_nr):\n",
    "    basinboard[row_index, column_index] = basin_nr\n",
    "    unmarked_neighbors = get_unmarked_basin_neighbors(row_index, column_index, floorboard, basinboard)\n",
    "    for neighbor in unmarked_neighbors:\n",
    "        if basinboard[neighbor] == -1:\n",
    "            mark_basin(neighbor[0], neighbor[1], floorboard, basinboard, basin_nr)\n",
    "    return basinboard\n",
    "\n",
    "def part2(file_name):\n",
    "    with open(file_name, 'r') as f:\n",
    "        lines = [line.strip() for line in f.readlines()]\n",
    "\n",
    "    lava_floor = np.zeros((len(lines), len(lines[0])), dtype=int)\n",
    "    for i, line in enumerate(lines):\n",
    "        for j, char_entry in enumerate(line):\n",
    "            lava_floor[i, j] = int(char_entry)\n",
    "    \n",
    "    display(lava_floor)\n",
    "\n",
    "    basin_map = np.ones((lava_floor.shape)) * -1\n",
    "\n",
    "    for i in range(lava_floor.shape[0]):\n",
    "        for j in range(lava_floor.shape[1]):\n",
    "            if check_if_low_point(i, j, lava_floor):\n",
    "                # find the basin\n",
    "                basin_nr = np.max(basin_map) + 1\n",
    "                basin_map = mark_basin(i, j, lava_floor, basin_map, basin_nr)\n",
    "    \n",
    "    display(basin_map)\n",
    "\n",
    "    _, counts = np.unique(basin_map, return_counts=True)\n",
    "    counts = list(counts)[1:]\n",
    "    counts.sort(reverse=True)\n",
    "    print(counts[0]*counts[1]*counts[2])"
   ]
  },
  {
   "cell_type": "code",
   "execution_count": 49,
   "metadata": {},
   "outputs": [
    {
     "data": {
      "text/plain": [
       "array([[2, 1, 9, 9, 9, 4, 3, 2, 1, 0],\n",
       "       [3, 9, 8, 7, 8, 9, 4, 9, 2, 1],\n",
       "       [9, 8, 5, 6, 7, 8, 9, 8, 9, 2],\n",
       "       [8, 7, 6, 7, 8, 9, 6, 7, 8, 9],\n",
       "       [9, 8, 9, 9, 9, 6, 5, 6, 7, 8]])"
      ]
     },
     "metadata": {},
     "output_type": "display_data"
    },
    {
     "data": {
      "text/plain": [
       "array([[ 0.,  0., -1., -1., -1.,  1.,  1.,  1.,  1.,  1.],\n",
       "       [ 0., -1.,  2.,  2.,  2., -1.,  1., -1.,  1.,  1.],\n",
       "       [-1.,  2.,  2.,  2.,  2.,  2., -1.,  3., -1.,  1.],\n",
       "       [ 2.,  2.,  2.,  2.,  2., -1.,  3.,  3.,  3., -1.],\n",
       "       [-1.,  2., -1., -1., -1.,  3.,  3.,  3.,  3.,  3.]])"
      ]
     },
     "metadata": {},
     "output_type": "display_data"
    },
    {
     "name": "stdout",
     "output_type": "stream",
     "text": [
      "1134\n"
     ]
    }
   ],
   "source": [
    "part2('example.txt')"
   ]
  },
  {
   "cell_type": "code",
   "execution_count": 50,
   "metadata": {},
   "outputs": [
    {
     "data": {
      "text/plain": [
       "array([[8, 6, 7, ..., 7, 8, 9],\n",
       "       [6, 4, 5, ..., 8, 9, 2],\n",
       "       [5, 3, 5, ..., 9, 9, 0],\n",
       "       ...,\n",
       "       [9, 9, 8, ..., 6, 7, 9],\n",
       "       [9, 8, 9, ..., 8, 8, 9],\n",
       "       [8, 7, 6, ..., 9, 9, 9]])"
      ]
     },
     "metadata": {},
     "output_type": "display_data"
    },
    {
     "data": {
      "text/plain": [
       "array([[ 13.,  13.,  13., ...,   4.,   4.,  -1.],\n",
       "       [ 13.,  13.,  13., ...,   4.,  -1.,  10.],\n",
       "       [ 13.,  13.,  13., ...,  -1.,  -1.,  10.],\n",
       "       ...,\n",
       "       [ -1.,  -1., 219., ..., 228., 228.,  -1.],\n",
       "       [ -1., 235.,  -1., ..., 228., 228.,  -1.],\n",
       "       [235., 235., 235., ...,  -1.,  -1.,  -1.]])"
      ]
     },
     "metadata": {},
     "output_type": "display_data"
    },
    {
     "name": "stdout",
     "output_type": "stream",
     "text": [
      "1038240\n"
     ]
    }
   ],
   "source": [
    "part2('input.txt')"
   ]
  },
  {
   "cell_type": "code",
   "execution_count": null,
   "metadata": {},
   "outputs": [],
   "source": []
  }
 ],
 "metadata": {
  "kernelspec": {
   "display_name": "Python 3.10.2 ('venv': venv)",
   "language": "python",
   "name": "python3"
  },
  "language_info": {
   "codemirror_mode": {
    "name": "ipython",
    "version": 3
   },
   "file_extension": ".py",
   "mimetype": "text/x-python",
   "name": "python",
   "nbconvert_exporter": "python",
   "pygments_lexer": "ipython3",
   "version": "3.10.2"
  },
  "orig_nbformat": 4,
  "vscode": {
   "interpreter": {
    "hash": "f6ffeed34b13a42cdf6337a141ad96419bd14a76dfc8896a9583596b7e7071cf"
   }
  }
 },
 "nbformat": 4,
 "nbformat_minor": 2
}
