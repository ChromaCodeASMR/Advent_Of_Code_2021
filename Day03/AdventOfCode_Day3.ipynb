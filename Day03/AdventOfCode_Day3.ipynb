{
 "cells": [
  {
   "cell_type": "markdown",
   "metadata": {},
   "source": [
    "# Part 1"
   ]
  },
  {
   "cell_type": "code",
   "execution_count": 1,
   "metadata": {},
   "outputs": [],
   "source": [
    "def part1(file_name):\n",
    "    with open(file_name, 'r') as f:\n",
    "        lines = f.readlines()\n",
    "        diagnostics = [entry.strip() for entry in lines]\n",
    "    \n",
    "    gamma, epsilon = '', ''\n",
    "    for i in range(len(diagnostics[0])):\n",
    "        all_entries_at_pos = [entry[i] for entry in diagnostics]\n",
    "        if all_entries_at_pos.count('0') > len(diagnostics)/2:\n",
    "            gamma += '0'\n",
    "            epsilon += '1'\n",
    "        else:\n",
    "            gamma += '1'\n",
    "            epsilon += '0'\n",
    "    print('gamma', gamma, int(gamma, base=2))\n",
    "    print('epsilon', epsilon, int(epsilon, base=2))\n",
    "    print('power consumption', int(gamma, base=2)*int(epsilon, base=2))"
   ]
  },
  {
   "cell_type": "code",
   "execution_count": 2,
   "metadata": {},
   "outputs": [
    {
     "name": "stdout",
     "output_type": "stream",
     "text": [
      "gamma 10110 22\n",
      "epsilon 01001 9\n",
      "power consumption 198\n"
     ]
    }
   ],
   "source": [
    "part1('example.txt')"
   ]
  },
  {
   "cell_type": "code",
   "execution_count": 3,
   "metadata": {},
   "outputs": [
    {
     "name": "stdout",
     "output_type": "stream",
     "text": [
      "gamma 101100100001 2849\n",
      "epsilon 010011011110 1246\n",
      "power consumption 3549854\n"
     ]
    }
   ],
   "source": [
    "part1('input.txt')"
   ]
  },
  {
   "cell_type": "markdown",
   "metadata": {},
   "source": [
    "# Part 2"
   ]
  },
  {
   "cell_type": "code",
   "execution_count": 4,
   "metadata": {},
   "outputs": [],
   "source": [
    "from copy import copy"
   ]
  },
  {
   "cell_type": "code",
   "execution_count": 5,
   "metadata": {},
   "outputs": [],
   "source": [
    "def part2(file_name):\n",
    "    with open(file_name, 'r') as f:\n",
    "        lines = f.readlines()\n",
    "        diagnostics = [entry.strip() for entry in lines]\n",
    "    \n",
    "    # oxygen\n",
    "    oxygen_diagnostics = copy(diagnostics)\n",
    "    for i in range(len(diagnostics[0])):\n",
    "        if len(oxygen_diagnostics) == 1:\n",
    "            break\n",
    "        all_entries_at_pos = [entry[i] for entry in oxygen_diagnostics]\n",
    "        common_bit = '1' if all_entries_at_pos.count('1') >= len(oxygen_diagnostics)/2 else '0'\n",
    "        oxygen_diagnostics = [entry for entry in oxygen_diagnostics\n",
    "                                if entry[i]==common_bit]\n",
    "    oxygen_rating = int(oxygen_diagnostics[0], base=2)\n",
    "    print('oxygen', oxygen_diagnostics[0], oxygen_rating)\n",
    "\n",
    "    # co2\n",
    "    co2_diagnostics = copy(diagnostics)\n",
    "    for i in range(len(diagnostics[0])):\n",
    "        if len(co2_diagnostics) == 1:\n",
    "            break\n",
    "        all_entries_at_pos = [entry[i] for entry in co2_diagnostics]\n",
    "        least_common_bit = '0' if all_entries_at_pos.count('1') >= len(co2_diagnostics)/2 else '1'\n",
    "        co2_diagnostics = [entry for entry in co2_diagnostics\n",
    "                                if entry[i]==least_common_bit]\n",
    "    co2_rating = int(co2_diagnostics[0], base=2)\n",
    "    print('co2', co2_diagnostics[0], co2_rating)\n",
    "\n",
    "    print('life support rating', oxygen_rating*co2_rating)"
   ]
  },
  {
   "cell_type": "code",
   "execution_count": 6,
   "metadata": {},
   "outputs": [
    {
     "name": "stdout",
     "output_type": "stream",
     "text": [
      "oxygen 10111 23\n",
      "co2 01010 10\n",
      "life support rating 230\n"
     ]
    }
   ],
   "source": [
    "part2('example.txt')"
   ]
  },
  {
   "cell_type": "code",
   "execution_count": 7,
   "metadata": {},
   "outputs": [
    {
     "name": "stdout",
     "output_type": "stream",
     "text": [
      "oxygen 101011011111 2783\n",
      "co2 010101001001 1353\n",
      "life support rating 3765399\n"
     ]
    }
   ],
   "source": [
    "part2('input.txt')"
   ]
  },
  {
   "cell_type": "code",
   "execution_count": null,
   "metadata": {},
   "outputs": [],
   "source": []
  }
 ],
 "metadata": {
  "interpreter": {
   "hash": "48f115114ebc0bdd73460167f0ca3803e4ec3053b3c568f09d3b7318ca840474"
  },
  "kernelspec": {
   "display_name": "Python 3.8.10 64-bit ('venv': venv)",
   "language": "python",
   "name": "python3"
  },
  "language_info": {
   "codemirror_mode": {
    "name": "ipython",
    "version": 3
   },
   "file_extension": ".py",
   "mimetype": "text/x-python",
   "name": "python",
   "nbconvert_exporter": "python",
   "pygments_lexer": "ipython3",
   "version": "3.8.10"
  },
  "orig_nbformat": 4
 },
 "nbformat": 4,
 "nbformat_minor": 2
}
