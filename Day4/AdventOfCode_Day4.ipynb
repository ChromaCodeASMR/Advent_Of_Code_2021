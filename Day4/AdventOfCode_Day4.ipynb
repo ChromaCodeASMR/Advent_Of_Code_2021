{
 "cells": [
  {
   "cell_type": "markdown",
   "metadata": {},
   "source": [
    "# Part 1"
   ]
  },
  {
   "cell_type": "code",
   "execution_count": 3,
   "metadata": {},
   "outputs": [],
   "source": [
    "import numpy as np"
   ]
  },
  {
   "cell_type": "code",
   "execution_count": 31,
   "metadata": {},
   "outputs": [],
   "source": [
    "class Board:\n",
    "    def __init__(self):\n",
    "        self.board = np.zeros((5,5), dtype=int)\n",
    "        self.marked = np.zeros((5,5))\n",
    "\n",
    "    def read_from_lines(self, lines):\n",
    "        for i in range(5):\n",
    "            line_entries = [int(entry) for entry in lines[i].split(' ') if entry != '']\n",
    "            self.board[i] = line_entries\n",
    "    \n",
    "    def check_called_number(self, called_number):\n",
    "        if called_number in self.board:\n",
    "            indices = np.where(self.board == called_number)\n",
    "            self.marked[indices[0], indices[1]] = 1\n",
    "\n",
    "    def check_win(self):\n",
    "        return self.marked.all(axis=0).any() or self.marked.all(axis=1).any()\n",
    "\n",
    "    def calculate_score(self, called_number):\n",
    "        return (self.board * (self.marked==0)).sum() * called_number"
   ]
  },
  {
   "cell_type": "code",
   "execution_count": 41,
   "metadata": {},
   "outputs": [],
   "source": [
    "def read_board(lines):\n",
    "    board = np.zeros((5,5), dtype=int)\n",
    "    for i in range(5):\n",
    "        line_entries = [int(entry) for entry in lines[i].split(' ') if entry != '']\n",
    "        board[i] = line_entries\n",
    "    return board\n",
    "\n",
    "def find_first_winner(called_numbers, boards):\n",
    "    for called_number in called_numbers:\n",
    "        for j in range(len(boards)):\n",
    "            boards[j].check_called_number(called_number)\n",
    "            if boards[j].check_win():\n",
    "                print(f\"Board {j+1} won!\")\n",
    "                print(boards[j].marked)\n",
    "                return j, called_number\n",
    "\n",
    "def part1(file_name):\n",
    "    with open(file_name, 'r') as f:\n",
    "        lines = [entry.strip() for entry in f.readlines()]\n",
    "    \n",
    "    called_numbers = [int(entry) for entry in lines[0].split(',')]\n",
    "    print(called_numbers)\n",
    "\n",
    "    number_of_boards = (len(lines)-1)//6\n",
    "    print(number_of_boards)\n",
    "    boards = dict()\n",
    "    for j in range(number_of_boards):\n",
    "        boards[j] = Board()\n",
    "        boards[j].read_from_lines(lines[(2 + j*6):(2+5+(j+1)*6)])\n",
    "    #print([board.board for board in boards.values()])\n",
    "\n",
    "    winner_index, called_number = find_first_winner(called_numbers, boards)    \n",
    "    print('score', boards[winner_index].calculate_score(called_number))"
   ]
  },
  {
   "cell_type": "code",
   "execution_count": 42,
   "metadata": {},
   "outputs": [
    {
     "name": "stdout",
     "output_type": "stream",
     "text": [
      "[7, 4, 9, 5, 11, 17, 23, 2, 0, 14, 21, 24, 10, 16, 13, 6, 15, 25, 12, 22, 18, 20, 8, 19, 3, 26, 1]\n",
      "3\n",
      "Board 3 won!\n",
      "[[1. 1. 1. 1. 1.]\n",
      " [0. 0. 0. 1. 0.]\n",
      " [0. 0. 1. 0. 0.]\n",
      " [0. 1. 0. 0. 1.]\n",
      " [1. 1. 0. 0. 1.]]\n",
      "score 4512\n"
     ]
    }
   ],
   "source": [
    "part1('example.txt')"
   ]
  },
  {
   "cell_type": "code",
   "execution_count": 43,
   "metadata": {},
   "outputs": [
    {
     "name": "stdout",
     "output_type": "stream",
     "text": [
      "[90, 4, 2, 96, 46, 1, 62, 97, 3, 52, 7, 35, 50, 28, 31, 37, 74, 26, 59, 53, 82, 47, 83, 80, 19, 40, 68, 95, 34, 55, 54, 73, 12, 78, 30, 63, 57, 93, 72, 77, 56, 91, 23, 67, 64, 79, 85, 84, 76, 10, 58, 0, 29, 13, 94, 20, 32, 25, 11, 38, 89, 21, 98, 92, 42, 27, 14, 99, 24, 75, 86, 51, 22, 48, 9, 33, 49, 18, 70, 8, 87, 61, 39, 16, 66, 71, 5, 69, 15, 43, 88, 45, 6, 81, 60, 36, 44, 17, 41, 65]\n",
      "100\n",
      "Board 23 won!\n",
      "[[1. 0. 1. 0. 1.]\n",
      " [0. 0. 1. 1. 0.]\n",
      " [0. 1. 1. 0. 0.]\n",
      " [0. 1. 1. 0. 1.]\n",
      " [0. 0. 1. 0. 0.]]\n",
      "score 8136\n"
     ]
    }
   ],
   "source": [
    "part1('input.txt')"
   ]
  },
  {
   "cell_type": "markdown",
   "metadata": {},
   "source": [
    "# Part 2"
   ]
  },
  {
   "cell_type": "code",
   "execution_count": 47,
   "metadata": {},
   "outputs": [],
   "source": [
    "def find_last_winner(called_numbers, boards):\n",
    "    winners = []\n",
    "    winner_call = 0\n",
    "    for called_number in called_numbers:\n",
    "        for j in range(len(boards)):\n",
    "            if j not in winners:\n",
    "                boards[j].check_called_number(called_number)\n",
    "                if boards[j].check_win():\n",
    "                    winners.append(j)\n",
    "                    print(f\"Board {j+1} won!\")\n",
    "                    winner_call = called_number\n",
    "    return winners[-1], winner_call\n",
    "\n",
    "def part2(file_name):\n",
    "    with open(file_name, 'r') as f:\n",
    "        lines = [entry.strip() for entry in f.readlines()]\n",
    "    \n",
    "    called_numbers = [int(entry) for entry in lines[0].split(',')]\n",
    "    print(called_numbers)\n",
    "\n",
    "    number_of_boards = (len(lines)-1)//6\n",
    "    print(number_of_boards)\n",
    "    boards = dict()\n",
    "    for j in range(number_of_boards):\n",
    "        boards[j] = Board()\n",
    "        boards[j].read_from_lines(lines[(2 + j*6):(2+5+(j+1)*6)])\n",
    "    #print([board.board for board in boards.values()])\n",
    "\n",
    "    winner_index, called_number = find_last_winner(called_numbers, boards)    \n",
    "    print('score', boards[winner_index].calculate_score(called_number))"
   ]
  },
  {
   "cell_type": "code",
   "execution_count": 48,
   "metadata": {},
   "outputs": [
    {
     "name": "stdout",
     "output_type": "stream",
     "text": [
      "[7, 4, 9, 5, 11, 17, 23, 2, 0, 14, 21, 24, 10, 16, 13, 6, 15, 25, 12, 22, 18, 20, 8, 19, 3, 26, 1]\n",
      "3\n",
      "Board 3 won!\n",
      "Board 1 won!\n",
      "Board 2 won!\n",
      "score 1924\n"
     ]
    }
   ],
   "source": [
    "part2('example.txt')"
   ]
  },
  {
   "cell_type": "code",
   "execution_count": 49,
   "metadata": {},
   "outputs": [
    {
     "name": "stdout",
     "output_type": "stream",
     "text": [
      "[90, 4, 2, 96, 46, 1, 62, 97, 3, 52, 7, 35, 50, 28, 31, 37, 74, 26, 59, 53, 82, 47, 83, 80, 19, 40, 68, 95, 34, 55, 54, 73, 12, 78, 30, 63, 57, 93, 72, 77, 56, 91, 23, 67, 64, 79, 85, 84, 76, 10, 58, 0, 29, 13, 94, 20, 32, 25, 11, 38, 89, 21, 98, 92, 42, 27, 14, 99, 24, 75, 86, 51, 22, 48, 9, 33, 49, 18, 70, 8, 87, 61, 39, 16, 66, 71, 5, 69, 15, 43, 88, 45, 6, 81, 60, 36, 44, 17, 41, 65]\n",
      "100\n",
      "Board 23 won!\n",
      "Board 83 won!\n",
      "Board 72 won!\n",
      "Board 99 won!\n",
      "Board 33 won!\n",
      "Board 15 won!\n",
      "Board 7 won!\n",
      "Board 10 won!\n",
      "Board 42 won!\n",
      "Board 36 won!\n",
      "Board 73 won!\n",
      "Board 94 won!\n",
      "Board 17 won!\n",
      "Board 21 won!\n",
      "Board 31 won!\n",
      "Board 66 won!\n",
      "Board 67 won!\n",
      "Board 71 won!\n",
      "Board 82 won!\n",
      "Board 43 won!\n",
      "Board 16 won!\n",
      "Board 32 won!\n",
      "Board 40 won!\n",
      "Board 22 won!\n",
      "Board 52 won!\n",
      "Board 24 won!\n",
      "Board 79 won!\n",
      "Board 3 won!\n",
      "Board 20 won!\n",
      "Board 41 won!\n",
      "Board 63 won!\n",
      "Board 80 won!\n",
      "Board 1 won!\n",
      "Board 13 won!\n",
      "Board 25 won!\n",
      "Board 46 won!\n",
      "Board 69 won!\n",
      "Board 89 won!\n",
      "Board 37 won!\n",
      "Board 54 won!\n",
      "Board 56 won!\n",
      "Board 100 won!\n",
      "Board 51 won!\n",
      "Board 57 won!\n",
      "Board 90 won!\n",
      "Board 38 won!\n",
      "Board 55 won!\n",
      "Board 62 won!\n",
      "Board 70 won!\n",
      "Board 74 won!\n",
      "Board 84 won!\n",
      "Board 85 won!\n",
      "Board 93 won!\n",
      "Board 86 won!\n",
      "Board 2 won!\n",
      "Board 87 won!\n",
      "Board 88 won!\n",
      "Board 11 won!\n",
      "Board 47 won!\n",
      "Board 49 won!\n",
      "Board 64 won!\n",
      "Board 27 won!\n",
      "Board 39 won!\n",
      "Board 45 won!\n",
      "Board 92 won!\n",
      "Board 30 won!\n",
      "Board 61 won!\n",
      "Board 78 won!\n",
      "Board 81 won!\n",
      "Board 97 won!\n",
      "Board 4 won!\n",
      "Board 12 won!\n",
      "Board 19 won!\n",
      "Board 96 won!\n",
      "Board 76 won!\n",
      "Board 35 won!\n",
      "Board 77 won!\n",
      "Board 18 won!\n",
      "Board 48 won!\n",
      "Board 98 won!\n",
      "Board 8 won!\n",
      "Board 60 won!\n",
      "Board 9 won!\n",
      "Board 34 won!\n",
      "Board 58 won!\n",
      "Board 75 won!\n",
      "Board 6 won!\n",
      "Board 59 won!\n",
      "Board 14 won!\n",
      "Board 26 won!\n",
      "Board 95 won!\n",
      "Board 65 won!\n",
      "Board 91 won!\n",
      "Board 29 won!\n",
      "Board 44 won!\n",
      "Board 5 won!\n",
      "Board 50 won!\n",
      "Board 53 won!\n",
      "Board 68 won!\n",
      "Board 28 won!\n",
      "score 12738\n"
     ]
    }
   ],
   "source": [
    "part2('input.txt')"
   ]
  },
  {
   "cell_type": "code",
   "execution_count": null,
   "metadata": {},
   "outputs": [],
   "source": []
  }
 ],
 "metadata": {
  "interpreter": {
   "hash": "48f115114ebc0bdd73460167f0ca3803e4ec3053b3c568f09d3b7318ca840474"
  },
  "kernelspec": {
   "display_name": "Python 3.8.10 64-bit ('venv': venv)",
   "language": "python",
   "name": "python3"
  },
  "language_info": {
   "codemirror_mode": {
    "name": "ipython",
    "version": 3
   },
   "file_extension": ".py",
   "mimetype": "text/x-python",
   "name": "python",
   "nbconvert_exporter": "python",
   "pygments_lexer": "ipython3",
   "version": "3.8.10"
  },
  "orig_nbformat": 4
 },
 "nbformat": 4,
 "nbformat_minor": 2
}
